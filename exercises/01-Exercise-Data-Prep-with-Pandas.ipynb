{
 "cells": [
  {
   "cell_type": "markdown",
   "metadata": {
    "papermill": {
     "duration": 0.018505,
     "end_time": "2021-06-07T00:09:44.379517",
     "exception": false,
     "start_time": "2021-06-07T00:09:44.361012",
     "status": "completed"
    },
    "tags": []
   },
   "source": [
    "# Exercise 1 - Customer Churn Prediction with XGBoost - Data Preparation\n",
    "\n",
    "### Your task is to make this notebook run succesfully and fill all the cells marked with `INSERT YOUR CODE HERE`\n",
    "\n",
    "\n",
    "---\n",
    "\n",
    "## Background\n",
    "\n",
    "Losing customers is costly for any business.  Identifying unhappy customers early on gives you a chance to offer them incentives to stay.  This notebook describes using machine learning (ML) for the automated identification of unhappy customers, also known as customer churn prediction. ML models rarely give perfect predictions though, so this notebook is also about how to incorporate the relative costs of prediction mistakes when determining the financial outcome of using ML.\n",
    "\n",
    "We use a familiar example of churn: leaving a mobile phone operator.  Seems like one can always find fault with their provider du jour! And if the provider knows that a customer is thinking of leaving, it can offer timely incentives - such as a phone upgrade or perhaps having a new feature activated – and the customer may stick around. Incentives are often much more cost-effective than losing and reacquiring a customer.\n",
    "\n"
   ]
  },
  {
   "cell_type": "markdown",
   "metadata": {
    "papermill": {
     "duration": 0.017739,
     "end_time": "2021-06-07T00:09:45.683322",
     "exception": false,
     "start_time": "2021-06-07T00:09:45.665583",
     "status": "completed"
    },
    "tags": []
   },
   "source": [
    "Next, we'll import the Python libraries we'll need for the remainder of the example."
   ]
  },
  {
   "cell_type": "code",
   "execution_count": null,
   "metadata": {
    "execution": {
     "iopub.execute_input": "2021-06-07T00:09:45.723197Z",
     "iopub.status.busy": "2021-06-07T00:09:45.722450Z",
     "iopub.status.idle": "2021-06-07T00:09:46.367234Z",
     "shell.execute_reply": "2021-06-07T00:09:46.366826Z"
    },
    "papermill": {
     "duration": 0.666347,
     "end_time": "2021-06-07T00:09:46.367361",
     "exception": false,
     "start_time": "2021-06-07T00:09:45.701014",
     "status": "completed"
    },
    "tags": []
   },
   "outputs": [],
   "source": [
    "import pandas as pd\n",
    "import numpy as np\n",
    "import boto3\n",
    "import matplotlib.pyplot as plt\n",
    "import io\n",
    "import os\n",
    "import sys\n",
    "import time\n",
    "import json\n",
    "from IPython.display import display\n",
    "from time import strftime, gmtime\n",
    "%matplotlib inline"
   ]
  },
  {
   "cell_type": "markdown",
   "metadata": {
    "papermill": {
     "duration": 0.021555,
     "end_time": "2021-06-07T00:09:46.406743",
     "exception": false,
     "start_time": "2021-06-07T00:09:46.385188",
     "status": "completed"
    },
    "tags": []
   },
   "source": [
    "---\n",
    "## Data\n",
    "\n",
    "Mobile operators have historical records on which customers ultimately ended up churning and which continued using the service. We can use this historical information to construct an ML model of one mobile operator’s churn using a process called training. After training the model, we can pass the profile information of an arbitrary customer (the same profile information that we used to train the model) to the model, and have the model predict whether this customer is going to churn. Of course, we expect the model to make mistakes. After all, predicting the future is tricky business! But we'll learn how to deal with prediction errors.\n",
    "\n",
    "The dataset we use is publicly available and was mentioned in the book [Discovering Knowledge in Data](https://www.amazon.com/dp/0470908742/) by Daniel T. Larose. It is attributed by the author to the University of California Irvine Repository of Machine Learning Datasets.  Let's download and read that dataset in now:"
   ]
  },
  {
   "cell_type": "code",
   "execution_count": null,
   "metadata": {
    "execution": {
     "iopub.execute_input": "2021-06-07T00:09:46.448749Z",
     "iopub.status.busy": "2021-06-07T00:09:46.448204Z",
     "iopub.status.idle": "2021-06-07T00:09:48.097646Z",
     "shell.execute_reply": "2021-06-07T00:09:48.098015Z"
    },
    "papermill": {
     "duration": 1.671215,
     "end_time": "2021-06-07T00:09:48.098151",
     "exception": false,
     "start_time": "2021-06-07T00:09:46.426936",
     "status": "completed"
    },
    "tags": []
   },
   "outputs": [],
   "source": [
    "s3 = boto3.client(\"s3\")\n",
    "s3.download_file(f\"sagemaker-sample-files\", \"datasets/tabular/synthetic/churn.txt\", \"churn.txt\")"
   ]
  },
  {
   "cell_type": "code",
   "execution_count": null,
   "metadata": {
    "execution": {
     "iopub.execute_input": "2021-06-07T00:09:48.138972Z",
     "iopub.status.busy": "2021-06-07T00:09:48.138536Z",
     "iopub.status.idle": "2021-06-07T00:09:48.185805Z",
     "shell.execute_reply": "2021-06-07T00:09:48.185364Z"
    },
    "papermill": {
     "duration": 0.06925,
     "end_time": "2021-06-07T00:09:48.185909",
     "exception": false,
     "start_time": "2021-06-07T00:09:48.116659",
     "status": "completed"
    },
    "tags": []
   },
   "outputs": [],
   "source": [
    "churn = pd.read_csv(\"./churn.txt\")\n",
    "pd.set_option(\"display.max_columns\", 500)\n",
    "churn"
   ]
  },
  {
   "cell_type": "markdown",
   "metadata": {
    "papermill": {
     "duration": 0.019033,
     "end_time": "2021-06-07T00:09:48.224277",
     "exception": false,
     "start_time": "2021-06-07T00:09:48.205244",
     "status": "completed"
    },
    "tags": []
   },
   "source": [
    "By modern standards, it’s a relatively small dataset, with only 5,000 records, where each record uses 21 attributes to describe the profile of a customer of an unknown US mobile operator. The attributes are:\n",
    "\n",
    "- `State`: the US state in which the customer resides, indicated by a two-letter abbreviation; for example, OH or NJ\n",
    "- `Account Length`: the number of days that this account has been active\n",
    "- `Area Code`: the three-digit area code of the corresponding customer’s phone number\n",
    "- `Phone`: the remaining seven-digit phone number\n",
    "- `Int’l Plan`: whether the customer has an international calling plan: yes/no\n",
    "- `VMail Plan`: whether the customer has a voice mail feature: yes/no\n",
    "- `VMail Message`: the average number of voice mail messages per month\n",
    "- `Day Mins`: the total number of calling minutes used during the day\n",
    "- `Day Calls`: the total number of calls placed during the day\n",
    "- `Day Charge`: the billed cost of daytime calls\n",
    "- `Eve Mins, Eve Calls, Eve Charge`: the billed cost for calls placed during the evening\n",
    "- `Night Mins`, `Night Calls`, `Night Charge`: the billed cost for calls placed during nighttime\n",
    "- `Intl Mins`, `Intl Calls`, `Intl Charge`: the billed cost for international calls\n",
    "- `CustServ Calls`: the number of calls placed to Customer Service\n",
    "- `Churn?`: whether the customer left the service: true/false\n",
    "\n",
    "The last attribute, `Churn?`, is known as the target attribute: the attribute that we want the ML model to predict.  Because the target attribute is binary, our model will be performing binary prediction, also known as binary classification.\n",
    "\n",
    "Let's begin exploring the data:"
   ]
  },
  {
   "cell_type": "code",
   "execution_count": null,
   "metadata": {
    "execution": {
     "iopub.execute_input": "2021-06-07T00:09:48.270539Z",
     "iopub.status.busy": "2021-06-07T00:09:48.269808Z",
     "iopub.status.idle": "2021-06-07T00:09:50.639029Z",
     "shell.execute_reply": "2021-06-07T00:09:50.639403Z"
    },
    "papermill": {
     "duration": 2.396119,
     "end_time": "2021-06-07T00:09:50.639536",
     "exception": false,
     "start_time": "2021-06-07T00:09:48.243417",
     "status": "completed"
    },
    "tags": []
   },
   "outputs": [],
   "source": [
    "# Frequency tables for each categorical feature\n",
    "# INSERT YOUR CODE HERE\n"
   ]
  },
  {
   "cell_type": "code",
   "execution_count": null,
   "metadata": {},
   "outputs": [],
   "source": [
    "# describe statistics for the dataframe\n",
    "#INSERT YOUR CODE HERE"
   ]
  },
  {
   "cell_type": "code",
   "execution_count": null,
   "metadata": {},
   "outputs": [],
   "source": [
    "#plot histograms for each column\n",
    "#INSERT YOUR CODE HERE"
   ]
  },
  {
   "cell_type": "markdown",
   "metadata": {
    "papermill": {
     "duration": 0.022357,
     "end_time": "2021-06-07T00:09:50.685414",
     "exception": false,
     "start_time": "2021-06-07T00:09:50.663057",
     "status": "completed"
    },
    "tags": []
   },
   "source": [
    "We can see immediately that:\n",
    "- `State` appears to be quite evenly distributed.\n",
    "- `Phone` takes on too many unique values to be of any practical use.  It's possible that parsing out the prefix could have some value, but without more context on how these are allocated, we should avoid using it.\n",
    "- Most of the numeric features are surprisingly nicely distributed, with many showing bell-like `gaussianity`.  `VMail Message` is a notable exception (and `Area Code` showing up as a feature we should convert to non-numeric)."
   ]
  },
  {
   "cell_type": "code",
   "execution_count": null,
   "metadata": {
    "execution": {
     "iopub.execute_input": "2021-06-07T00:09:50.735986Z",
     "iopub.status.busy": "2021-06-07T00:09:50.735386Z",
     "iopub.status.idle": "2021-06-07T00:09:50.737816Z",
     "shell.execute_reply": "2021-06-07T00:09:50.738157Z"
    },
    "papermill": {
     "duration": 0.030406,
     "end_time": "2021-06-07T00:09:50.738287",
     "exception": false,
     "start_time": "2021-06-07T00:09:50.707881",
     "status": "completed"
    },
    "tags": []
   },
   "outputs": [],
   "source": [
    "# Drop the \"Phone\" column \n",
    "churn = #INSERT YOUR CODE HERE\n",
    "\n",
    "# Convert \"Area Code\" to \"object\" data type\n",
    "churn[\"Area Code\"] = #INSERT YOUR CODE HERE\n",
    "\n",
    "# Display data types of each column in data frame\n",
    "#INSERT YOUR CODE HERE"
   ]
  },
  {
   "cell_type": "markdown",
   "metadata": {
    "papermill": {
     "duration": 0.022422,
     "end_time": "2021-06-07T00:09:50.783342",
     "exception": false,
     "start_time": "2021-06-07T00:09:50.760920",
     "status": "completed"
    },
    "tags": []
   },
   "source": [
    "Next let's look at the relationship between each of the features and our target variable."
   ]
  },
  {
   "cell_type": "code",
   "execution_count": null,
   "metadata": {
    "execution": {
     "iopub.execute_input": "2021-06-07T00:09:50.834855Z",
     "iopub.status.busy": "2021-06-07T00:09:50.834376Z",
     "iopub.status.idle": "2021-06-07T00:09:55.450575Z",
     "shell.execute_reply": "2021-06-07T00:09:55.450997Z"
    },
    "papermill": {
     "duration": 4.645229,
     "end_time": "2021-06-07T00:09:55.451149",
     "exception": false,
     "start_time": "2021-06-07T00:09:50.805920",
     "status": "completed"
    },
    "tags": []
   },
   "outputs": [],
   "source": [
    "for column in churn.select_dtypes(include=[\"object\"]).columns:\n",
    "    if column != \"Churn?\":\n",
    "        display(pd.crosstab(index=churn[column], columns=churn[\"Churn?\"], normalize=\"columns\"))\n",
    "\n",
    "for column in churn.select_dtypes(exclude=[\"object\"]).columns:\n",
    "    print(column)\n",
    "    hist = churn[[column, \"Churn?\"]].hist(by=\"Churn?\", bins=30)\n",
    "    plt.show()"
   ]
  },
  {
   "cell_type": "code",
   "execution_count": null,
   "metadata": {
    "execution": {
     "iopub.execute_input": "2021-06-07T00:09:55.527922Z",
     "iopub.status.busy": "2021-06-07T00:09:55.527458Z",
     "iopub.status.idle": "2021-06-07T00:10:14.041236Z",
     "shell.execute_reply": "2021-06-07T00:10:14.041583Z"
    },
    "papermill": {
     "duration": 18.552066,
     "end_time": "2021-06-07T00:10:14.041717",
     "exception": false,
     "start_time": "2021-06-07T00:09:55.489651",
     "status": "completed"
    },
    "tags": []
   },
   "outputs": [],
   "source": [
    "display(churn.corr())\n",
    "pd.plotting.scatter_matrix(churn, figsize=(12, 12))\n",
    "plt.show()"
   ]
  },
  {
   "cell_type": "markdown",
   "metadata": {
    "papermill": {
     "duration": 0.050687,
     "end_time": "2021-06-07T00:10:14.143830",
     "exception": false,
     "start_time": "2021-06-07T00:10:14.093143",
     "status": "completed"
    },
    "tags": []
   },
   "source": [
    "We see several features that essentially have 100% correlation with one another.  Including these feature pairs in some machine learning algorithms can create catastrophic problems, while in others it will only introduce minor redundancy and bias.  Let's remove one feature from each of the highly correlated pairs: `Day Charge` from the pair with `Day Mins`, `Night Charge` from the pair with `Night Mins`, `Intl Charge` from the pair with `Intl Mins`:"
   ]
  },
  {
   "cell_type": "code",
   "execution_count": null,
   "metadata": {
    "execution": {
     "iopub.execute_input": "2021-06-07T00:10:14.249477Z",
     "iopub.status.busy": "2021-06-07T00:10:14.248826Z",
     "iopub.status.idle": "2021-06-07T00:10:14.250941Z",
     "shell.execute_reply": "2021-06-07T00:10:14.250546Z"
    },
    "papermill": {
     "duration": 0.057009,
     "end_time": "2021-06-07T00:10:14.251061",
     "exception": false,
     "start_time": "2021-06-07T00:10:14.194052",
     "status": "completed"
    },
    "tags": []
   },
   "outputs": [],
   "source": [
    "# Lets drop following features: \"Day Charge\", \"Eve Charge\", \"Night Charge\", \"Intl Charge\"\n",
    "churn = #INSERT YOUR CODE HERE"
   ]
  },
  {
   "cell_type": "markdown",
   "metadata": {
    "papermill": {
     "duration": 0.050512,
     "end_time": "2021-06-07T00:10:14.352000",
     "exception": false,
     "start_time": "2021-06-07T00:10:14.301488",
     "status": "completed"
    },
    "tags": []
   },
   "source": [
    "As a final step let's convert all categorical into numerical feature"
   ]
  },
  {
   "cell_type": "code",
   "execution_count": null,
   "metadata": {
    "execution": {
     "iopub.execute_input": "2021-06-07T00:10:14.458704Z",
     "iopub.status.busy": "2021-06-07T00:10:14.457928Z",
     "iopub.status.idle": "2021-06-07T00:10:14.472868Z",
     "shell.execute_reply": "2021-06-07T00:10:14.473238Z"
    },
    "papermill": {
     "duration": 0.07096,
     "end_time": "2021-06-07T00:10:14.473383",
     "exception": false,
     "start_time": "2021-06-07T00:10:14.402423",
     "status": "completed"
    },
    "tags": []
   },
   "outputs": [],
   "source": [
    "# Convert categorical to numeric variables and save in a new dataframe named 'model_data'\n",
    "model_data = #INSERT YOUR CODE HERE\n",
    "\n",
    "\n",
    "# Drop \"Churn?_False.\" column  as data is redundant with target column\n",
    "model_data = #INSERT YOUR CODE HERE\n",
    "\n",
    "\n",
    "assert len(model_data.columns) == 100 , \"data has wrong number of columns\""
   ]
  },
  {
   "cell_type": "markdown",
   "metadata": {
    "papermill": {
     "duration": 0.050777,
     "end_time": "2021-06-07T00:10:14.574494",
     "exception": false,
     "start_time": "2021-06-07T00:10:14.523717",
     "status": "completed"
    },
    "tags": []
   },
   "source": [
    "And now let's split the data into training, validation, and test sets.  This will help prevent us from overfitting the model, and allow us to test the model's accuracy on data it hasn't already seen."
   ]
  },
  {
   "cell_type": "code",
   "execution_count": null,
   "metadata": {},
   "outputs": [],
   "source": [
    "from sklearn.model_selection import train_test_split\n",
    "\n",
    "#split of 70%/30% into train/validation set\n",
    "train, validation = #INSERT YOUR CODE HERE\n",
    "\n",
    "# split of 1/3 from validation set into test set\n",
    "validation, test = #INSERT YOUR CODE HERE\n",
    "\n",
    "print (f'Training size: {train.shape}, Validation size: {validation.shape}, Test size: {test.shape}')\n",
    "assert len(train) == 3500 , \"Training set size should be 3500\"\n",
    "assert len(validation) == 1000 , \"Training set size should be 1000\"\n",
    "assert len(test) == 500 , \"Training set size should be 500\""
   ]
  },
  {
   "cell_type": "markdown",
   "metadata": {},
   "source": [
    "Finally lets write the data to disk"
   ]
  },
  {
   "cell_type": "code",
   "execution_count": null,
   "metadata": {},
   "outputs": [],
   "source": [
    "# Write train csv with index set to False\n",
    "#INSERT YOUR CODE HERE\n",
    "# Write validation csv with index set to False\n",
    "#INSERT YOUR CODE HERE\n",
    "# Write test csv with index set to False\n",
    "#INSERT YOUR CODE HERE\n",
    "\n",
    "from os.path import exists\n",
    "\n",
    "# ensure files are written\n",
    "assert exists(\"train.csv\") , \"train.csv does not exist\"\n",
    "assert exists(\"validation.csv\") , \"validation.csv does not exist\"\n",
    "assert exists(\"test.csv\") , \"test.csv does not exist\"\n"
   ]
  },
  {
   "cell_type": "markdown",
   "metadata": {},
   "source": [
    "Our data is now ready for training our machine learning model"
   ]
  }
 ],
 "metadata": {
  "celltoolbar": "Tags",
  "instance_type": "ml.t3.medium",
  "kernelspec": {
   "display_name": "Python 3 (Data Science 2.0)",
   "language": "python",
   "name": "python3__SAGEMAKER_INTERNAL__arn:aws:sagemaker:eu-central-1:936697816551:image/sagemaker-data-science-38"
  },
  "language_info": {
   "codemirror_mode": {
    "name": "ipython",
    "version": 3
   },
   "file_extension": ".py",
   "mimetype": "text/x-python",
   "name": "python",
   "nbconvert_exporter": "python",
   "pygments_lexer": "ipython3",
   "version": "3.8.13"
  },
  "notice": "Copyright 2017 Amazon.com, Inc. or its affiliates. All Rights Reserved.  Licensed under the Apache License, Version 2.0 (the \"License\"). You may not use this file except in compliance with the License. A copy of the License is located at http://aws.amazon.com/apache2.0/ or in the \"license\" file accompanying this file. This file is distributed on an \"AS IS\" BASIS, WITHOUT WARRANTIES OR CONDITIONS OF ANY KIND, either express or implied. See the License for the specific language governing permissions and limitations under the License.",
  "papermill": {
   "default_parameters": {},
   "duration": 311.728138,
   "end_time": "2021-06-07T00:14:55.273560",
   "environment_variables": {},
   "exception": true,
   "input_path": "xgboost_customer_churn.ipynb",
   "output_path": "/opt/ml/processing/output/xgboost_customer_churn-2021-06-07-00-06-03.ipynb",
   "parameters": {
    "kms_key": "arn:aws:kms:us-west-2:521695447989:key/6e9984db-50cf-4c7e-926c-877ec47a8b25"
   },
   "start_time": "2021-06-07T00:09:43.545422",
   "version": "2.3.3"
  }
 },
 "nbformat": 4,
 "nbformat_minor": 5
}
